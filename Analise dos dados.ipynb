{
 "cells": [
  {
   "cell_type": "markdown",
   "id": "18fef400",
   "metadata": {},
   "source": [
    "### Instalar dependecias"
   ]
  },
  {
   "cell_type": "code",
   "execution_count": null,
   "id": "9f499609",
   "metadata": {},
   "outputs": [],
   "source": [
    "%matplotlib inline"
   ]
  },
  {
   "cell_type": "code",
   "execution_count": null,
   "id": "3260e86b",
   "metadata": {},
   "outputs": [],
   "source": [
    "%pip install numpy pandas matplotlib scikit-learn notebook ipython"
   ]
  },
  {
   "cell_type": "markdown",
   "id": "c9658163",
   "metadata": {},
   "source": [
    "---\n",
    "### Aquisição e Limpeza dos Dados\n",
    "\n",
    "Nesta etapa, carregamos o dataset weatherHistory.csv (dados meteorológicos históricos). Este conjunto de dados contém registros horários de condições meteorológicas na região de Szeged, Hungria, entre 2006 e 2016 (disponível no Kaggle). As colunas incluem data/hora, resumo do tempo, tipo de precipitação, temperatura (°C), temperatura aparente (°C), umidade, velocidade e direção do vento, visibilidade, cobertura de nuvens e pressão atmosférica"
   ]
  },
  {
   "cell_type": "code",
   "execution_count": null,
   "id": "724ea93f",
   "metadata": {},
   "outputs": [],
   "source": [
    "import pandas as pd\n",
    "\n",
    "# Leitura dos dados\n",
    "df = pd.read_csv('weatherHistory.csv')\n",
    "\n",
    "# Visão geral das primeiras linhas (amostra dos dados)\n",
    "print(df.head(5))  # Exibe as primeiras 5 linhas do dataset\n",
    "\n",
    "# Remover coluna irrelevante (Loud Cover) e Daily Summary que não será usada\n",
    "df.drop(['Loud Cover', 'Daily Summary'], axis=1, inplace=True)\n",
    "\n",
    "# Tratar valores ausentes em 'Precip Type': substituir NaN por 'none'\n",
    "df['Precip Type'].fillna('none', inplace=True)\n",
    "\n",
    "# Remover linhas duplicadas completas, se houver\n",
    "df.drop_duplicates(inplace=True)\n",
    "\n",
    "# Conversão da coluna de data para datetime\n",
    "df['Formatted Date'] = pd.to_datetime(df['Formatted Date'])\n",
    "\n",
    "# Conferir resultado da limpeza\n",
    "print(\"Dados após limpeza:\")\n",
    "print(f\"Total de registros: {len(df)}\")\n",
    "print(\"Valores nulos por coluna:\")\n",
    "print(df.isnull().sum())\n"
   ]
  },
  {
   "cell_type": "markdown",
   "id": "f8104cee",
   "metadata": {},
   "source": [
    "---\n",
    "### Análise Exploratória e Visualização de Dados\n",
    "\n",
    "Com os dados limpos, prosseguimos para a análise exploratória (Exploratory Data Analysis - EDA) para entender melhor os dados e verificar nossas hipóteses iniciais.\n",
    "\n"
   ]
  },
  {
   "cell_type": "code",
   "execution_count": null,
   "id": "7acd364b",
   "metadata": {},
   "outputs": [],
   "source": [
    "\n",
    "\n",
    "# Estatísticas descritivas das principais variáveis numéricas\n",
    "print(df[['Temperature (C)', 'Apparent Temperature (C)', 'Humidity']].describe())\n",
    "\n",
    "# Calcular correlação entre temperatura real, aparente, umidade e vento\n",
    "corr_matrix = df[['Temperature (C)', 'Apparent Temperature (C)', 'Humidity', 'Wind Speed (km/h)']].corr()\n",
    "print(\"Correlação entre variáveis selecionadas:\")\n",
    "print(corr_matrix)\n"
   ]
  },
  {
   "cell_type": "code",
   "execution_count": null,
   "id": "49d72ead",
   "metadata": {},
   "outputs": [],
   "source": [
    "# Bloco: Histogramas de Temperature e Apparent Temperature\n",
    "import matplotlib.pyplot as plt\n",
    "\n",
    "plt.figure(figsize=(12,5))\n",
    "\n",
    "plt.subplot(1, 2, 1)\n",
    "plt.hist(df['Temperature (C)'], bins=30)\n",
    "plt.title('Distribuição da Temperatura (°C)')\n",
    "plt.xlabel('Temperature (C)')\n",
    "plt.ylabel('Frequência')\n",
    "\n",
    "plt.subplot(1, 2, 2)\n",
    "plt.hist(df['Apparent Temperature (C)'], bins=30)\n",
    "plt.title('Distribuição da Temperatura Aparente (°C)')\n",
    "plt.xlabel('Apparent Temperature (C)')\n",
    "\n",
    "plt.tight_layout()\n",
    "plt.show()\n"
   ]
  },
  {
   "cell_type": "code",
   "execution_count": null,
   "id": "e2b8df84",
   "metadata": {},
   "outputs": [],
   "source": [
    "# Bloco: Scatter Temperature x Apparent Temperature, colorido por Humidity\n",
    "plt.figure(figsize=(7,7))\n",
    "sc = plt.scatter(\n",
    "    df['Temperature (C)'],\n",
    "    df['Apparent Temperature (C)'],\n",
    "    c=df['Humidity'],\n",
    "    alpha=0.5\n",
    ")\n",
    "plt.plot([-30,45], [-30,45], 'k--', lw=1)  # linha y=x\n",
    "plt.xlabel('Temperature (C)')\n",
    "plt.ylabel('Apparent Temperature (C)')\n",
    "plt.title('Temp Real vs. Temp Aparente (cor = Umidade)')\n",
    "cbar = plt.colorbar(sc)\n",
    "cbar.set_label('Humidity')\n",
    "plt.show()\n"
   ]
  },
  {
   "cell_type": "code",
   "execution_count": null,
   "id": "2d59d120",
   "metadata": {},
   "outputs": [],
   "source": [
    "# Bloco: Bar chart com contagem de cada categoria de Summary\n",
    "summary_counts = df['Summary'].value_counts().head(20)  # top 20\n",
    "plt.figure(figsize=(10,6))\n",
    "summary_counts.plot(kind='bar')\n",
    "plt.title('Top 20 Resumos do Tempo Mais Frequentes')\n",
    "plt.xlabel('Summary')\n",
    "plt.ylabel('Contagem')\n",
    "plt.xticks(rotation=45, ha='right')\n",
    "plt.tight_layout()\n",
    "plt.show()\n"
   ]
  },
  {
   "cell_type": "code",
   "execution_count": null,
   "id": "7305c031",
   "metadata": {},
   "outputs": [],
   "source": [
    "# Bloco: Boxplot do desvio da temperatura aparente em relação à real, por Precip Type\n",
    "df['delta_temp'] = df['Apparent Temperature (C)'] - df['Temperature (C)']\n",
    "\n",
    "plt.figure(figsize=(6,5))\n",
    "df.boxplot(column='delta_temp', by='Precip Type', grid=False)\n",
    "plt.title('Delta Temp (Apparente – Real) por Tipo de Precipitação')\n",
    "plt.suptitle('')\n",
    "plt.xlabel('Precip Type')\n",
    "plt.ylabel('Delta Temperature (°C)')\n",
    "plt.show()\n"
   ]
  },
  {
   "cell_type": "markdown",
   "id": "edefeda9",
   "metadata": {},
   "source": [
    "---\n",
    "### Modelagem Preditiva e Validação\n",
    "\n",
    "Compreendida a estrutura dos dados, partimos para a modelagem. Nosso alvo (variável dependente) é Apparent Temperature (C) e usaremos como features (variáveis explicativas) as colunas selecionadas: Temperature (C), Humidity, Summary e Precip Type.\n"
   ]
  },
  {
   "cell_type": "code",
   "execution_count": null,
   "id": "dcb49bf3",
   "metadata": {},
   "outputs": [],
   "source": [
    "from sklearn.model_selection import train_test_split\n",
    "\n",
    "\n",
    "\n",
    "# Seleciona colunas de entrada (X) e alvo (y) para o modelo\n",
    "features = ['Temperature (C)', 'Humidity', 'Summary', 'Precip Type']\n",
    "target = 'Apparent Temperature (C)'\n",
    "\n",
    "# Aplicar One-Hot Encoding nas variáveis categóricas\n",
    "df_model = df[features + [target]].copy()\n",
    "df_model = df_model.fillna({'Precip Type': 'none'})  # garantir nenhum NaN em Precip Type\n",
    "# Converte categorias em dummies\n",
    "df_model = pd.get_dummies(df_model, columns=['Summary', 'Precip Type'], drop_first=True)\n",
    "\n",
    "X = df_model.drop(target, axis=1)\n",
    "y = df_model[target]\n",
    "\n",
    "# Dividir em treino (80%) e teste (20%)\n",
    "X_train, X_test, y_train, y_test = train_test_split(X, y, test_size=0.2, random_state=42)\n",
    "print(f\"Tamanho treino: {X_train.shape[0]} exemplos, teste: {X_test.shape[0]} exemplos\")\n"
   ]
  },
  {
   "cell_type": "code",
   "execution_count": null,
   "id": "47084eef",
   "metadata": {},
   "outputs": [],
   "source": [
    "from sklearn.linear_model import LinearRegression\n",
    "from sklearn.ensemble import RandomForestRegressor\n",
    "from sklearn.metrics import mean_squared_error, r2_score\n",
    "\n",
    "# Modelo 1: Regressão Linear\n",
    "linreg = LinearRegression()\n",
    "linreg.fit(X_train, y_train)  # Treina o modelo nos dados de treino\n",
    "\n",
    "# Predição no conjunto de teste\n",
    "y_pred_lin = linreg.predict(X_test)\n",
    "\n",
    "# Avaliação do modelo linear\n",
    "mse_lin = mean_squared_error(y_test, y_pred_lin)\n",
    "rmse_lin = mse_lin ** 0.5\n",
    "r2_lin = r2_score(y_test, y_pred_lin)\n",
    "print(f\"Desempenho Regressão Linear - RMSE: {rmse_lin:.3f} °C, R²: {r2_lin:.3%}\")\n",
    "\n",
    "# Modelo 2: Random Forest Regressor (exemplo de modelo de árvore de decisão em conjunto)\n",
    "rf = RandomForestRegressor(n_estimators=50, max_depth=10, random_state=42)\n",
    "rf.fit(X_train, y_train)\n",
    "\n",
    "# Predição no teste\n",
    "y_pred_rf = rf.predict(X_test)\n",
    "\n",
    "# Avaliação do Random Forest\n",
    "mse_rf = mean_squared_error(y_test, y_pred_rf)\n",
    "rmse_rf = mse_rf ** 0.5\n",
    "r2_rf = r2_score(y_test, y_pred_rf)\n",
    "print(f\"Desempenho Random Forest - RMSE: {rmse_rf:.3f} °C, R²: {r2_rf:.3%}\")\n",
    "\n",
    "\n"
   ]
  },
  {
   "cell_type": "code",
   "execution_count": null,
   "id": "207e1f59",
   "metadata": {},
   "outputs": [],
   "source": [
    "# Bloco: Scatter Predito vs. Real para o melhor modelo\n",
    "y_pred = y_pred_rf  # use o modelo que preferir (rf ou linreg)\n",
    "plt.figure(figsize=(7,7))\n",
    "plt.scatter(y_test, y_pred, alpha=0.4)\n",
    "plt.plot([-30,45], [-30,45], 'r--', lw=1)\n",
    "plt.xlabel('Temperatura Aparente Real (C)')\n",
    "plt.ylabel('Temperatura Aparente Prevista (C)')\n",
    "plt.title('Real vs. Previsto (Random Forest)')\n",
    "plt.show()\n"
   ]
  },
  {
   "cell_type": "code",
   "execution_count": null,
   "id": "67f36007",
   "metadata": {},
   "outputs": [],
   "source": []
  }
 ],
 "metadata": {
  "kernelspec": {
   "display_name": "env",
   "language": "python",
   "name": "python3"
  },
  "language_info": {
   "codemirror_mode": {
    "name": "ipython",
    "version": 3
   },
   "file_extension": ".py",
   "mimetype": "text/x-python",
   "name": "python",
   "nbconvert_exporter": "python",
   "pygments_lexer": "ipython3",
   "version": "3.12.2"
  }
 },
 "nbformat": 4,
 "nbformat_minor": 5
}
